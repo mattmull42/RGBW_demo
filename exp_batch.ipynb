{
 "cells": [
  {
   "cell_type": "code",
   "execution_count": 1,
   "metadata": {},
   "outputs": [],
   "source": [
    "import numpy as np\n",
    "from os import listdir, path\n",
    "import csv\n",
    "from tqdm import tqdm\n",
    "from skimage.metrics import peak_signal_noise_ratio, structural_similarity\n",
    "from skimage.io import imread\n",
    "import jax.numpy as jnp\n",
    "from scico import functional, linop, loss\n",
    "from scico.optimize import ProximalADMM\n",
    "\n",
    "from src.forward_model.cfa_operator import cfa_operator"
   ]
  },
  {
   "cell_type": "code",
   "execution_count": 2,
   "metadata": {},
   "outputs": [],
   "source": [
    "CFAS_OLD = sorted(['bayer_GRBG', 'quad_bayer', 'gindele', 'chakrabarti', 'hamilton', 'honda', 'kaizu', 'kodak', 'sony', 'sparse_3', 'wang', 'yamagami', 'yamanaka'])\n",
    "CFAS_NEW = sorted(['bayer_RGGB', 'lukac', 'xtrans', 'luo'])\n",
    "CFAS = CFAS_OLD + CFAS_NEW\n",
    "RGB_SPECTRAL_STENCIL = np.array([650, 525, 480])\n",
    "NOISE_LEVEL = 0\n",
    "\n",
    "IMG_DIR = 'input/test/'\n",
    "\n",
    "psnr = lambda x, x_hat: peak_signal_noise_ratio(x, x_hat, data_range=1)\n",
    "ssim = lambda x, x_hat: structural_similarity(x, x_hat, data_range=1, channel_axis=2)\n",
    "\n",
    "res = []\n",
    "images = [imread(path.join(IMG_DIR, img_name)) / 255 for img_name in listdir(IMG_DIR)]"
   ]
  },
  {
   "cell_type": "code",
   "execution_count": 3,
   "metadata": {},
   "outputs": [],
   "source": [
    "def reconstruction(cfa, x):\n",
    "    cfa_op = cfa_operator(cfa, x.shape, RGB_SPECTRAL_STENCIL)\n",
    "    y = np.clip(cfa_op.direct(x) + np.random.normal(0, NOISE_LEVEL / 100, cfa_op.output_shape), 0, 1)\n",
    "    x_baseline = jnp.array(cfa_op.adjoint(y))\n",
    "\n",
    "    def forward_pass(x):\n",
    "        return jnp.array(cfa_op.direct(x))\n",
    "\n",
    "    def adjoint_pass(y):\n",
    "        return jnp.array(cfa_op.adjoint(y))\n",
    "\n",
    "    C = linop.LinearOperator(input_shape=x.shape, output_shape=x.shape[:-1], eval_fn=forward_pass, adj_fn=adjoint_pass)\n",
    "    D = linop.FiniteDifference(input_shape=x.shape, append=0, axes=(0, 1))\n",
    "    A = linop.VerticalStack((C, D))\n",
    "\n",
    "    g_0 = loss.SquaredL2Loss(y=jnp.array(y))\n",
    "    g_1 = functional.L21Norm(l2_axis=(0, 3))\n",
    "\n",
    "    mu, nu = ProximalADMM.estimate_parameters(D)\n",
    "\n",
    "    lambd = 0.001\n",
    "    rho = 0.005\n",
    "\n",
    "    g= functional.SeparableFunctional((g_0, lambd * g_1))\n",
    "\n",
    "    solver_TV = ProximalADMM(\n",
    "        f=functional.ZeroFunctional(),\n",
    "        g=g,\n",
    "        A=A,\n",
    "        B=None,\n",
    "        rho=rho,\n",
    "        mu=mu,\n",
    "        nu=nu,\n",
    "        x0=x_baseline,\n",
    "        maxiter=400\n",
    "    )\n",
    "\n",
    "    return np.clip(np.array(solver_TV.solve()), 0, 1)"
   ]
  },
  {
   "cell_type": "code",
   "execution_count": 4,
   "metadata": {},
   "outputs": [
    {
     "name": "stderr",
     "output_type": "stream",
     "text": [
      "100%|██████████| 17/17 [59:12<00:00, 208.99s/it]\n"
     ]
    }
   ],
   "source": [
    "for cfa in tqdm(CFAS):\n",
    "    outputs = [reconstruction(cfa, x) for x in images]\n",
    "    metrics = np.array([[psnr(x, output), ssim(x, output)] for x, output in zip(images, outputs)]).T\n",
    "    res.append([cfa, f'${np.mean(metrics[0]):.2f} \\pm {np.std(metrics[0]):.2f}$',\n",
    "                f'${np.mean(metrics[1]):.3f} \\pm {np.std(metrics[1]):.3f}$'])"
   ]
  },
  {
   "cell_type": "code",
   "execution_count": 5,
   "metadata": {},
   "outputs": [],
   "source": [
    "with open('metrics.csv', 'w') as csvFile:\n",
    "    writer = csv.writer(csvFile)\n",
    "    writer.writerows(res)"
   ]
  }
 ],
 "metadata": {
  "kernelspec": {
   "display_name": "Python 3",
   "language": "python",
   "name": "python3"
  },
  "language_info": {
   "codemirror_mode": {
    "name": "ipython",
    "version": 3
   },
   "file_extension": ".py",
   "mimetype": "text/x-python",
   "name": "python",
   "nbconvert_exporter": "python",
   "pygments_lexer": "ipython3",
   "version": "3.11.6"
  },
  "orig_nbformat": 4,
  "vscode": {
   "interpreter": {
    "hash": "916dbcbb3f70747c44a77c7bcd40155683ae19c65e1c03b4aa3499c5328201f1"
   }
  }
 },
 "nbformat": 4,
 "nbformat_minor": 2
}
