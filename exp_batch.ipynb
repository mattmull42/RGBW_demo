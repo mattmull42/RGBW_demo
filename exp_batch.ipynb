{
 "cells": [
  {
   "cell_type": "code",
   "execution_count": 2,
   "metadata": {},
   "outputs": [],
   "source": [
    "import numpy as np\n",
    "\n",
    "from os import listdir, path\n",
    "\n",
    "from skimage.metrics import peak_signal_noise_ratio, structural_similarity\n",
    "from skimage.io import imread\n",
    "import jax.numpy as jnp\n",
    "from scico import functional, linop, loss\n",
    "from scico.optimize import ProximalADMM\n",
    "\n",
    "from src.forward_model.operators import cfa_operator"
   ]
  },
  {
   "cell_type": "code",
   "execution_count": 3,
   "metadata": {},
   "outputs": [],
   "source": [
    "CFAS = sorted(['bayer_GRBG', 'quad_bayer', 'gindele', 'chakrabarti', 'hamilton', 'honda', 'kaizu', 'kodak', 'sony', 'sparse_3', 'wang', 'yamagami', 'yamanaka'])\n",
    "RGB_SPECTRAL_STENCIL = np.array([650, 525, 480])\n",
    "NOISE_LEVEL = 0\n",
    "\n",
    "INPUT_DIR = 'input/test/'\n",
    "\n",
    "res_psnr = {}\n",
    "res_ssim = {}"
   ]
  },
  {
   "cell_type": "code",
   "execution_count": 4,
   "metadata": {},
   "outputs": [],
   "source": [
    "for cfa in CFAS:\n",
    "    psnr_list = []\n",
    "    ssim_list = []\n",
    "\n",
    "    for i, image_name in enumerate(listdir(INPUT_DIR)):\n",
    "        x= imread(path.join(INPUT_DIR, image_name)) / 255\n",
    "        cfa_op = cfa_operator(cfa, x.shape, RGB_SPECTRAL_STENCIL)\n",
    "        y = np.clip(cfa_op.direct(x) + np.random.normal(0, NOISE_LEVEL / 100, cfa_op.output_shape), 0, 1)\n",
    "        x_baseline = jnp.array(cfa_op.adjoint(y))\n",
    "\n",
    "        def forward_pass(x):\n",
    "            return jnp.array(cfa_op.direct(x))\n",
    "\n",
    "        def adjoint_pass(y):\n",
    "            return jnp.array(cfa_op.adjoint(y))\n",
    "\n",
    "        C = linop.LinearOperator(input_shape=x.shape, output_shape=x.shape[:-1], eval_fn=forward_pass, adj_fn=adjoint_pass)\n",
    "        D = linop.FiniteDifference(input_shape=x.shape, append=0, axes=(0, 1))\n",
    "        A = linop.VerticalStack((C, D))\n",
    "\n",
    "        g_0 = loss.SquaredL2Loss(y=jnp.array(y))\n",
    "        g_1 = functional.L21Norm(l2_axis=(0, 3))\n",
    "\n",
    "        mu, nu = ProximalADMM.estimate_parameters(D)\n",
    "\n",
    "        lambd = 0.001\n",
    "        rho = 0.005\n",
    "\n",
    "        g= functional.SeparableFunctional((g_0, lambd * g_1))\n",
    "\n",
    "        solver_TV = ProximalADMM(\n",
    "            f=functional.ZeroFunctional(),\n",
    "            g=g,\n",
    "            A=A,\n",
    "            B=None,\n",
    "            rho=rho,\n",
    "            mu=mu,\n",
    "            nu=nu,\n",
    "            x0=x_baseline,\n",
    "            maxiter=1000\n",
    "        )\n",
    "\n",
    "        res = np.clip(np.array(solver_TV.solve()), 0, 1)\n",
    "        psnr_list.append(peak_signal_noise_ratio(x, res, data_range=1))\n",
    "        ssim_list.append(structural_similarity(x, res, data_range=1, channel_axis=2))\n",
    "\n",
    "    psnr_mean = np.mean(psnr_list)\n",
    "    psnr_std = np.std(psnr_list)\n",
    "    ssim_mean = np.mean(ssim_list)\n",
    "    ssim_std = np.std(ssim_list)\n",
    "\n",
    "    res_psnr[cfa] = f'{psnr_mean:.2f}dB +/- {psnr_std:.2f}dB'\n",
    "    res_ssim[cfa] = f'{ssim_mean:.2f} +/- {ssim_std:.2f}'"
   ]
  },
  {
   "cell_type": "code",
   "execution_count": null,
   "metadata": {},
   "outputs": [],
   "source": [
    "print(res_psnr)\n",
    "print(res_ssim)"
   ]
  }
 ],
 "metadata": {
  "kernelspec": {
   "display_name": "Python 3",
   "language": "python",
   "name": "python3"
  },
  "language_info": {
   "codemirror_mode": {
    "name": "ipython",
    "version": 3
   },
   "file_extension": ".py",
   "mimetype": "text/x-python",
   "name": "python",
   "nbconvert_exporter": "python",
   "pygments_lexer": "ipython3",
   "version": "3.11.6"
  },
  "orig_nbformat": 4,
  "vscode": {
   "interpreter": {
    "hash": "916dbcbb3f70747c44a77c7bcd40155683ae19c65e1c03b4aa3499c5328201f1"
   }
  }
 },
 "nbformat": 4,
 "nbformat_minor": 2
}
