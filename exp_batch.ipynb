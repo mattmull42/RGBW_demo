{
 "cells": [
  {
   "cell_type": "code",
   "execution_count": null,
   "metadata": {},
   "outputs": [],
   "source": [
    "import numpy as np\n",
    "\n",
    "from os import listdir, remove\n",
    "\n",
    "import jax.numpy as jnp\n",
    "from scico import functional, linop, loss, metric\n",
    "from scico.optimize import PDHG\n",
    "\n",
    "import optuna\n",
    "\n",
    "from src.forward_operator.forward_operator import forward_operator\n",
    "from src.forward_operator.operators import *\n",
    "\n",
    "from src.inversions.baseline_method.inversion_baseline import *\n",
    "\n",
    "from src.input_initialization import initialize_input"
   ]
  },
  {
   "cell_type": "code",
   "execution_count": null,
   "metadata": {},
   "outputs": [],
   "source": [
    "CFA = 'sony'\n",
    "BINNING = CFA == 'quad_bayer'\n",
    "NOISE_LEVEL = 5\n",
    "\n",
    "INPUT_DIR = 'input/ms/'"
   ]
  },
  {
   "cell_type": "code",
   "execution_count": null,
   "metadata": {},
   "outputs": [],
   "source": [
    "res = []\n",
    "\n",
    "for i, image_name in enumerate(listdir(INPUT_DIR)):\n",
    "    x, spectral_stencil = initialize_input(INPUT_DIR + image_name)\n",
    "\n",
    "    cfa_op = cfa_operator(CFA, x.shape, spectral_stencil, 'dirac')\n",
    "    forward_op = forward_operator([cfa_op])\n",
    "    baseline_inverse = Inverse_problem(CFA, BINNING, 0, x.shape, spectral_stencil, 'dirac')\n",
    "\n",
    "    def forward_pass(x):\n",
    "        return jnp.array(forward_op.direct(x))\n",
    "\n",
    "    def adjoint_pass(y):\n",
    "        return jnp.array(forward_op.adjoint(y))\n",
    "\n",
    "    A = linop.LinearOperator(input_shape=x.shape, output_shape=x.shape[:-1], eval_fn=forward_pass, adj_fn=adjoint_pass)\n",
    "\n",
    "    C = linop.FiniteDifference(input_shape=x.shape, append=0, axes=(0, 1))\n",
    "    C_squared_norm = np.float64(linop.operator_norm(C))**2\n",
    "\n",
    "    y = np.clip(forward_op.direct(x) + np.random.normal(0, NOISE_LEVEL / 100, forward_op.output_shape), 0, 1)\n",
    "\n",
    "    f = loss.SquaredL2Loss(y=jnp.array(y), A=A)\n",
    "\n",
    "    x_baseline = jnp.array(baseline_inverse(y)[:, :, ::-1])\n",
    "    \n",
    "    def objective(trial):\n",
    "        lambd = trial.suggest_float('lambd', 1e-3, 0.2, log=True)\n",
    "        sigma = trial.suggest_float('sigma', 1e-2, 100, log=True)\n",
    "        tmp = trial.suggest_float('tmp', 1e-3, 1)\n",
    "        tau = tmp / (sigma * C_squared_norm)\n",
    "\n",
    "        g = lambd * functional.L21Norm(l2_axis=(0, 3))\n",
    "\n",
    "        solver_TV = PDHG(\n",
    "            f=f,\n",
    "            g=g,\n",
    "            C=C,\n",
    "            tau=tau,\n",
    "            sigma=sigma,\n",
    "            x0=x_baseline,\n",
    "            maxiter=400\n",
    "        )\n",
    "\n",
    "        return metric.mse(x, solver_TV.solve())\n",
    "\n",
    "    study = optuna.create_study(direction='minimize', storage=f'sqlite:///{image_name}.sqlite3', study_name='tv', load_if_exists=True)\n",
    "    study.optimize(objective, n_trials=10)\n",
    "    best_trial = study.best_trial\n",
    "\n",
    "    res.append(best_trial.value)\n",
    "\n",
    "    print(i, np.mean(res))\n",
    "    print('----------------------------------------------------------------')"
   ]
  },
  {
   "cell_type": "code",
   "execution_count": null,
   "metadata": {},
   "outputs": [],
   "source": [
    "print(res)\n",
    "print(np.mean(res), np.std(res))"
   ]
  }
 ],
 "metadata": {
  "kernelspec": {
   "display_name": "Python 3",
   "language": "python",
   "name": "python3"
  },
  "language_info": {
   "codemirror_mode": {
    "name": "ipython",
    "version": 3
   },
   "file_extension": ".py",
   "mimetype": "text/x-python",
   "name": "python",
   "nbconvert_exporter": "python",
   "pygments_lexer": "ipython3",
   "version": "3.9.16"
  },
  "orig_nbformat": 4,
  "vscode": {
   "interpreter": {
    "hash": "916dbcbb3f70747c44a77c7bcd40155683ae19c65e1c03b4aa3499c5328201f1"
   }
  }
 },
 "nbformat": 4,
 "nbformat_minor": 2
}
